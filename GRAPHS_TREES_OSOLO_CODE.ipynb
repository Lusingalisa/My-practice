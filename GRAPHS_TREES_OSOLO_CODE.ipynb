{
 "cells": [
  {
   "cell_type": "markdown",
   "metadata": {},
   "source": [
    "# BREADTH-FIRST SEARCH"
   ]
  },
  {
   "cell_type": "code",
   "execution_count": 1,
   "metadata": {},
   "outputs": [
    {
     "name": "stdout",
     "output_type": "stream",
     "text": [
      "BFS Traversal starting from node A: \n",
      "A B C D E F G H "
     ]
    }
   ],
   "source": [
    "from collections import deque\n",
    "\n",
    "def bfs(graph,start):\n",
    "    visited=set()\n",
    "    queue=deque([start])\n",
    "    visited.add(start)\n",
    "\n",
    "    while queue:\n",
    "        node=queue.popleft()\n",
    "        print(node, end=\" \")\n",
    "\n",
    "        for neighbor in graph[node]:\n",
    "            if neighbor not in visited:\n",
    "                visited.add(neighbor)\n",
    "                queue.append(neighbor)\n",
    "#Example Graph(Adjacency list representation\n",
    "graph={\n",
    "    'A':['B','C','D'],\n",
    "    'B':['A','E','F'],\n",
    "    'C':['A','G'],\n",
    "    'D':['A','H'],\n",
    "    'E':['B'],\n",
    "    'F':['B'],\n",
    "    'G':['C'],\n",
    "    'H':['D']\n",
    "}\n",
    "\n",
    "print(\"BFS Traversal starting from node A: \")\n",
    "bfs(graph,'A')"
   ]
  },
  {
   "cell_type": "code",
   "execution_count": 3,
   "metadata": {},
   "outputs": [
    {
     "name": "stdout",
     "output_type": "stream",
     "text": [
      "DFS Traversal starting from node A:\n",
      "A B E F C G D H "
     ]
    }
   ],
   "source": [
    "def dfs(graph, node, visited=None):\n",
    "    if visited is None:\n",
    "        visited = set()\n",
    "    \n",
    "    visited.add(node)\n",
    "    print(node, end=\" \")\n",
    "\n",
    "    for neighbor in graph[node]:\n",
    "        if neighbor not in visited:\n",
    "            dfs(graph, neighbor, visited)\n",
    "\n",
    "# Example Graph (Adjacency List)\n",
    "graph = {\n",
    "    'A': ['B', 'C', 'D'],\n",
    "    'B': ['A', 'E', 'F'],\n",
    "    'C': ['A', 'G'],\n",
    "    'D': ['A', 'H'],\n",
    "    'E': ['B'],\n",
    "    'F': ['B'],\n",
    "    'G': ['C'],\n",
    "    'H': ['D']\n",
    "}\n",
    "\n",
    "print(\"DFS Traversal starting from node A:\")\n",
    "dfs(graph, 'A')\n"
   ]
  },
  {
   "cell_type": "code",
   "execution_count": 2,
   "metadata": {},
   "outputs": [
    {
     "name": "stdout",
     "output_type": "stream",
     "text": [
      "\n",
      "DFS Iterative Traversal starting from node A:\n",
      "A B E F C G D H "
     ]
    }
   ],
   "source": [
    "def dfs_iterative(graph, start):\n",
    "    visited = set()\n",
    "    stack = [start]\n",
    "\n",
    "    while stack:\n",
    "        node = stack.pop()\n",
    "        if node not in visited:\n",
    "            print(node, end=\" \")\n",
    "            visited.add(node)\n",
    "            stack.extend(reversed(graph[node]))  # Reverse to maintain order\n",
    "\n",
    "print(\"\\nDFS Iterative Traversal starting from node A:\")\n",
    "dfs_iterative(graph, 'A')\n"
   ]
  }
 ],
 "metadata": {
  "kernelspec": {
   "display_name": "Python 3",
   "language": "python",
   "name": "python3"
  },
  "language_info": {
   "codemirror_mode": {
    "name": "ipython",
    "version": 3
   },
   "file_extension": ".py",
   "mimetype": "text/x-python",
   "name": "python",
   "nbconvert_exporter": "python",
   "pygments_lexer": "ipython3",
   "version": "3.12.5"
  }
 },
 "nbformat": 4,
 "nbformat_minor": 2
}
