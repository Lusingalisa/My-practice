{
 "cells": [
  {
   "cell_type": "markdown",
   "metadata": {},
   "source": [
    "- S24B38/010\n",
    "- B30300\n",
    "- NAMUGENYI LISA LUSINGA"
   ]
  },
  {
   "cell_type": "markdown",
   "metadata": {},
   "source": [
    "## RECURSION"
   ]
  },
  {
   "cell_type": "markdown",
   "metadata": {},
   "source": [
    "# 1. Introduction to Recursion\n",
    "- Recursion is a method through which problems are broken down into smaller sub-problems to find a solution. This is done by replicating the function on a smaller scale, making it call itself and then combining them together to solve problems.\n",
    "\n",
    "- Recursion involves a function calling itslef while iteration involves a loop repeating instructions until a certain condition is met. Recursion requires more memory than iteration.\n",
    "\n",
    "***Properties of recursive functions***\n",
    "   - It must have a base case. This is the condition that allows the algorithm to stop the recursion and begin the process of returning to the original calling function.\n",
    "   \n",
    "   - It must change its state and move toward the base case. Thiis involves modifying something in the recursive function that on subsequent calls moves the state of the program closer to the base case.\n",
    "   \n",
    "   - It must call itself.\n",
    "\n",
    "***How recursion utilizes memory and the role of the call stack.***\n",
    "   - Each recursive call adds a new layer to the system's stack which is also called the call stack. Every time a function calls itself, a new stack frame is created which leads to increased memory usage as the recursion depth increases.\n",
    "   \n",
    "   - The call stack acts as a memory log that keeps track of each recursive call. This may lead to usage of more memory as the recursion depth grows. It keeps track of the function calls and their intermediate results.\n",
    "\n",
    "***Role of the base case in recursion:*** it is the condition to stop recursion. It serves as the termination point to prevent infinite recursion hence ensuring the recursion comes to a conclusion.\n",
    "\n",
    "\n",
    "***Advantages of recursion***\n",
    "  - Recursion makes complex problems easier to solve by breaking them down into small sub-problems.\n",
    "  \n",
    "  - It adds clarity and may reduce the time needed to write and debug code.\n",
    "  \n",
    "  - Recursion reduces time complexity.\n",
    "  \n",
    "  - Recursion performs better in solving problems based on tree structures.\n",
    "\n",
    "***Disadvantages of recursion***\n",
    "  - It is usually slower due to the overhead of maintaining the stack.\n",
    "  \n",
    "  - It usually takes up more memory for the stack, with increasing depth of it.\n",
    "  \n",
    "  - If the base condition is not set properly, it may create a problem such as a system crash.\n",
    "  \n",
    "  - Exessive function calls are being used, which each function occupies memory in stack and may lead to stack overflow.\n",
    "\n",
    "\n",
    "***When should recursion be used instead of iteration***\n",
    "  - Recursion should be used when the problem has a naturally recursive structure for example, trees and graphs. This means it can be broken down into smaller sub problems.\n"
   ]
  },
  {
   "cell_type": "markdown",
   "metadata": {},
   "source": [
    "# 2. Recursive Problems with Explanations, Code and Complexity Analysis"
   ]
  },
  {
   "cell_type": "markdown",
   "metadata": {},
   "source": [
    "# 2.1 Factorial Calculation\n",
    "- Factorial of a number is the product of all the positive integers not greater than the specified number.\n",
    "\n",
    "***How can factorial be implemented using recursion?***\n",
    "   - We start by stating the base case which would be 0!=1\n",
    "   - The recursive function calls itself with a smaller value until it reaches the base case.\n",
    "   - The formula: n!=n*(n-1)!\n",
    "\n",
    "\n",
    "***How can factorial be implemented iteratively?***\n",
    "   - we can use a for loop to calculate the factorial \n",
    "   - We initialize a result of 1 after defining the function. and then specify a range of 2 to n+1; n being the number whose factorial we want to calculate.\n",
    "\n",
    "***The time complexity of both recursion and iteration***\n",
    "  - the time complexity of both is O(n).\n",
    "\n",
    "***Space requirements for the recursive and iterative approaches***\n",
    "  - Space complexity of iterative approaches is O(1) because the emory storage remains constant.\n",
    "  - Space complexity of recursive approaches in O(n) because each recursive function call creates a new stack frame in the stack memory. By the time the base case is reached there are O(n) stack frames in memory.\n"
   ]
  },
  {
   "cell_type": "code",
   "execution_count": null,
   "metadata": {},
   "outputs": [
    {
     "name": "stdout",
     "output_type": "stream",
     "text": [
      "120\n"
     ]
    }
   ],
   "source": [
    "# Factorial using recursion\n",
    "# We can use the if statement without else here because the if block returns immediately.\n",
    "# this means after returning 1, the function stops immediately when n is 0 or 1, and if the base case is not met, the execution automatically moves to the next return statement.\n",
    "def factorial(n):\n",
    "    if n==0 or n==1:\n",
    "        return 1\n",
    "    return n*factorial(n-1)\n",
    "\n",
    "print(factorial(5))"
   ]
  },
  {
   "cell_type": "code",
   "execution_count": 4,
   "metadata": {},
   "outputs": [
    {
     "name": "stdout",
     "output_type": "stream",
     "text": [
      "40320\n"
     ]
    }
   ],
   "source": [
    "# Factorial using iteration\n",
    "def factorial_of_number(n):\n",
    "    result = 1\n",
    "    for i in range(2,n+1):\n",
    "        result *= i\n",
    "    return result\n",
    "\n",
    "print(factorial_of_number(8))"
   ]
  },
  {
   "cell_type": "markdown",
   "metadata": {},
   "source": [
    "# 2.2 Fibonacci Series\n",
    "- The Fibonacci sequence is a sequence in which each element is the sum of the two elements that precede it. \n",
    "\n",
    "***How fibonacci numbers are generated using recursion***\n",
    "  - We define a function, fibonacci\n",
    "  - We state our base cases that are 0 and 1\n",
    "  - formula: n-1+n-2\n",
    "\n",
    "***Inefficiencies of the naive recursive approach***\n",
    "  - Each call to fibonnaci makes two recursive calls and this greatly increases the number  of recursive calls. Therefore, the algorithm will take a much longer time leading to a time complexity of O(2^n)\n",
    "\n",
    "***How Fibonacci numbers be computed efficiently using memoization***\n",
    "- Memoization is an optimization technique used to speed up recursive algorithms by storing the result of expensive function calls and reusing them when the same inputs reoccur. \n",
    "  - We start by creating a data structure to store the results of funstion calls.\n",
    "  \n",
    "  - Modify the recursive function to check this data structure before making a new function call.\n",
    "  \n",
    "  - If the result is already computed, returns it from the data structure.\n",
    "  \n",
    "  - If the result is not computed, compute it and then store it in the data structure, then return it.\n",
    "\n",
    "***Time complexity of the recursive, iterative, and memoized solutions***\n",
    " - Recursive: O(2^n)\n",
    " - Memoize: O(n) , This is because for each fibonacci value, we either calculate it or retrieve it from the \"memory\" dictionary which takes a constant time of O(1)\n",
    " - Iterative: O(n)"
   ]
  },
  {
   "cell_type": "code",
   "execution_count": 5,
   "metadata": {},
   "outputs": [
    {
     "name": "stdout",
     "output_type": "stream",
     "text": [
      "8\n"
     ]
    }
   ],
   "source": [
    "# Generating fibonacci sequence using recursion\n",
    "def fibonacci(n):\n",
    "    if n==0:\n",
    "        return 0\n",
    "    elif n==1:\n",
    "        return 1\n",
    "    return fibonacci(n-1)+fibonacci(n-2)\n",
    "\n",
    "print(fibonacci(6))"
   ]
  },
  {
   "cell_type": "code",
   "execution_count": null,
   "metadata": {},
   "outputs": [
    {
     "name": "stdout",
     "output_type": "stream",
     "text": [
      "21\n"
     ]
    }
   ],
   "source": [
    "# Computing Fibonacci numbers using memoization\n",
    "def fibonacci_memo(n,memory={}):\n",
    "    if n in memory:  #Check if the result is already computed.\n",
    "        return memory[n]  # return the stored result if it is already there\n",
    "    if n==0:\n",
    "        return 0\n",
    "    if n==1:\n",
    "        return 1\n",
    "    memory[n] = fibonacci_memo(n-1,memory) + fibonacci_memo(n-2,memory)\n",
    "    return memory[n] #Return the result and store it in \"memory\"\n",
    "\n",
    "print(fibonacci_memo(8))"
   ]
  },
  {
   "cell_type": "code",
   "execution_count": null,
   "metadata": {},
   "outputs": [
    {
     "name": "stdout",
     "output_type": "stream",
     "text": [
      "21\n"
     ]
    }
   ],
   "source": [
    "# Iterative approach for fibonacci\n",
    "def Fibonacci(n):\n",
    "    a,b=0,1\n",
    "    for _ in range(n):\n",
    "        a,b=b,a+b\n",
    "    return a\n",
    "\n",
    "print(Fibonacci(8))\n",
    "\n",
    "# start by initializing variables a and b where a starts as 0 and b starts as 1\n",
    "# use _ as the variable in the loop since we do not need to use the variable from the loop itself, we only want to repeat the iteration n times.\n",
    "# our variables a and b keep being updated:\n",
    "# a becomes the old value of b while b becomes the sum of the previous two values  "
   ]
  },
  {
   "cell_type": "markdown",
   "metadata": {},
   "source": [
    "# 2.5 Checking for Palindromes\n",
    "- A palindrome is a word, phrase or sequence that reads the same backwards as forward.\n",
    "\n",
    "***How can a string be checked for being a palindrome using recursion?***\n",
    "  - If a string has zero or one character, it is a palindrome.\n",
    "  - Otherwise check if the first and last characters are the same, if so, strip the word of the first and last characters and compare the remaining contents of the string.\n",
    "  - if they are not equal, the string is not a aplindrome.\n",
    "\n",
    "***Base case***:\n",
    "  - A string that has exactly one character or no characters is a palindrome. \n",
    "  - If the first and last characters of a string don't match\n",
    "\n",
    "***Time complexity of recursion and iteratively***\n",
    "  - Recursion: O(n)\n",
    "  - Iterative approach: O(n)"
   ]
  },
  {
   "cell_type": "code",
   "execution_count": null,
   "metadata": {},
   "outputs": [
    {
     "name": "stdout",
     "output_type": "stream",
     "text": [
      "False\n"
     ]
    }
   ],
   "source": [
    "# Palindrome checking using recursion\n",
    "def is_a_palindrome(s):\n",
    "    if len(s) <= 1:\n",
    "        return True\n",
    "    if s[0] != s[-1]:\n",
    "        return False\n",
    "    return is_a_palindrome(s[1:-1])\n",
    "\n",
    "print(is_a_palindrome(\"boys\"))"
   ]
  },
  {
   "cell_type": "code",
   "execution_count": 20,
   "metadata": {},
   "outputs": [
    {
     "name": "stdout",
     "output_type": "stream",
     "text": [
      "True\n"
     ]
    }
   ],
   "source": [
    "# Palindrome using the iterative mode\n",
    "def is_palindrome(s):\n",
    "    left,right =0, len(s)-1\n",
    "\n",
    "    while left < right:\n",
    "        if s[left] !=s[right]:\n",
    "            return False\n",
    "        left += 1\n",
    "        right -=1\n",
    "\n",
    "    return True\n",
    "\n",
    "print(is_palindrome(\"dad\"))"
   ]
  },
  {
   "cell_type": "markdown",
   "metadata": {},
   "source": [
    "# 3. Memory Usage in Recursion\n",
    "\n",
    "***How is recursion handled in memory?***\n",
    "  - By utilizing the sytem's call stack, where each recursive call creates a new stack frame that stores the current function state.\n",
    "\n",
    "***What happens when too many recursive calls are made?***\n",
    "  - It results in a \"stack overflow\" error. The call stacks become full and can't handle any further recursive calls.\n",
    "\n",
    "***Recursion limit in Python and howit can be modified***\n",
    "  - maximum recursion depth of 1000\n",
    "  - if a function exceeds the limit, it can be increased using the sys.setrecursionlimit(n) function.\n",
    "\n",
    "***Tail recursion and why it is not optimized in python***\n",
    "  - Tail recursion is defined as a recursive function in which the recursive call is the last statement that is executed by the function. So basically nothing is left to execute after the recursion call.\n",
    "\n",
    "  - It is a design choice by Python to not natively support tail recursion in order to maintain readability and debuggability of the code.\n",
    "\n",
    "\n",
    "***How can recursion be converted into iteration to avoid excessive memory usage?***\n",
    "  - For operations that involve simple accumulative computation like fibonacci sequence, we can use loops instead.\n",
    "  \n",
    "  - These can be converted to iterations by using explicit stack. This is a stack that you create and manage yourself in code by defining its structure and operations.\n",
    "\n",
    "\n"
   ]
  },
  {
   "cell_type": "markdown",
   "metadata": {},
   "source": [
    "# 4. Advantages and Disadvantages of Recursion\n",
    "**In what situations is recursion more readable than loops?**\n",
    "  - In problems where there is a clear recursive structure like tree traversals, factorial calculation. These are the problems that can be broken down into smaller sub problems.\n",
    "\n",
    "**Risks of using recursion in terms of performance and memory**\n",
    "  - Recursions take up a lot of memory since each recursive call occupies memory in a stack. Therefore the greater the recursion depth, the more memory that is being used. \n",
    "  - The greater the number of recursive calls required, the longer it takes to solve the problem.\n",
    "\n",
    "**Factors to be considered when deciding between recursion and iteration**\n",
    "  - Whether the problem is base case; for such recursion is a good fit\n",
    "  - Performance; when performance and memory usage are critical, it is better to use iteration rather than recursion.\n",
    "  - When the size of code is small recursion can be chosen over iteration."
   ]
  },
  {
   "cell_type": "markdown",
   "metadata": {},
   "source": [
    "# 5. Conclusion\n",
    "  - Recursion is a good algorithm to use especially when faced with a complex task since it breaks it down into smaller sub-problems. \n",
    "  - Recursive functions must have a base case, so that they have a terminating point to prevent infinite recursion.\n",
    "  - Recursion is a good method for solving specific problems that have a natural recursive nature suvh as trees.\n",
    "\n",
    "**Real-world application of recursion**\n",
    "  - It is used for indexing search engine results and scraping websites\n",
    "  - It is used for file system navigation\n",
    "  - Efficient sorting in large datasets\n",
    "  - to sort stacks of documents\n",
    "  - Solving constraint-based problems like Sudoku\n",
    "  - It is used with hierarchical data like trees and graphs for traversal, searching and manipulation.\n"
   ]
  }
 ],
 "metadata": {
  "kernelspec": {
   "display_name": "Python 3",
   "language": "python",
   "name": "python3"
  },
  "language_info": {
   "codemirror_mode": {
    "name": "ipython",
    "version": 3
   },
   "file_extension": ".py",
   "mimetype": "text/x-python",
   "name": "python",
   "nbconvert_exporter": "python",
   "pygments_lexer": "ipython3",
   "version": "3.12.5"
  }
 },
 "nbformat": 4,
 "nbformat_minor": 2
}
