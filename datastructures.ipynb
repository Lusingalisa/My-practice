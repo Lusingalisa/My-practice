{
 "cells": [
  {
   "cell_type": "code",
   "execution_count": 1,
   "metadata": {},
   "outputs": [
    {
     "name": "stdout",
     "output_type": "stream",
     "text": [
      "6\n",
      "[1, 2, 3, 4, 5, 6, 7, 8, 9, 10]\n",
      "[1, 2, 2.5, 3, 4, 5, 6, 7, 8, 9, 10]\n",
      "array without 10 [1, 2, 2.5, 3, 4, 5, 6, 7, 8, 9]\n",
      "array without 5 [1, 2, 2.5, 3, 4, 6, 7, 8, 9]\n",
      "the number is in the array\n",
      "elements currently in the array: \n",
      "1\n",
      "2\n",
      "2.5\n",
      "3\n",
      "4\n",
      "6\n",
      "7\n",
      "8\n",
      "9\n"
     ]
    }
   ],
   "source": [
    "array=[1,2,3,4,5,6,7,8,9]\n",
    "print(array[5])\n",
    "#print(array)\n",
    "\n",
    "#inserting data into an array\n",
    "array.append(10)\n",
    "print(array)\n",
    "# inserting in the middle of the array\n",
    "array.insert(2,2.5)  #insert(index,what you want to add)\n",
    "print(array)\n",
    "\n",
    "#deleting/removing data from an array\n",
    "array.remove(10)\n",
    "print(\"array without 10\", array)\n",
    "del array[5]\n",
    "print(\"array without 5\", array)\n",
    "\n",
    "#searching for an element in an array\n",
    "if 8 in array:\n",
    "    print(\"the number is in the array\")\n",
    "else:\n",
    "    print(\"the number is not there\")\n",
    "\n",
    "#traversing the array  ->means going through every number in the array and adding a specific condition like squaring without applying it on each one at a time\n",
    "print(\"elements currently in the array: \")\n",
    "for num in array:\n",
    "    print(num)"
   ]
  },
  {
   "cell_type": "code",
   "execution_count": 2,
   "metadata": {},
   "outputs": [
    {
     "name": "stdout",
     "output_type": "stream",
     "text": [
      "1\n",
      "3\n",
      "9\n"
     ]
    }
   ],
   "source": [
    "#2D ARRAY\n",
    "#this example is a 3X3 2D array\n",
    "array1=[\n",
    "    [1,2,3],\n",
    "    [4,5,6],\n",
    "    [7,8,9]\n",
    "]\n",
    "print(array1[0][0])  #first 0 is the index of the row, second 0 is the index of the column\n",
    "print(array1[0][2])\n",
    "print(array1[-1][-1]) #print the last element "
   ]
  },
  {
   "cell_type": "markdown",
   "metadata": {},
   "source": [
    "# LINKED LIST\n",
    "- node -> a structure that contains the following\n",
    "   - data(value sorted in the node)\n",
    "   - pointer(reference to the next node)\n",
    "\n",
    "- head -> the first node in a linked list\n",
    "- tail -> the last node in a linked list"
   ]
  },
  {
   "cell_type": "code",
   "execution_count": 3,
   "metadata": {},
   "outputs": [
    {
     "name": "stdout",
     "output_type": "stream",
     "text": [
      "linked_list\n",
      "1 -> 2 -> 3 -> none\n",
      "1 -> 1.5 -> 2 -> 3 -> none\n",
      "1 -> 2 -> 3 -> none\n"
     ]
    }
   ],
   "source": [
    "linked_list={\n",
    "    0:(1,1),\n",
    "    1:(2,2),\n",
    "    2:(3,-1)\n",
    "}\n",
    "def display_linked_list():\n",
    "    index=0\n",
    "    while index!=-1:  #while the index is not the last\n",
    "        value,next_index=linked_list[index]   #means get the node value and the next index \n",
    "        print(value,end=\" -> \")  #print the value\n",
    "        index=next_index     #go to the next one and then repeat\n",
    "    print(\"none\")  #so that the loop can end and doesn't continue, and it shows none when it reaches the end\n",
    "print(\"linked_list\")\n",
    "display_linked_list()\n",
    "\n",
    "#adding data to the linked list\n",
    "linked_list[1]=(1.5,2)  #replaced the data at index 1 \n",
    "#adding data without losing the previous data \n",
    "linked_list[2]=(2,3)\n",
    "linked_list[3]=(3,-1)\n",
    "display_linked_list()\n",
    "\n",
    "#remove data from a linked list\n",
    "del linked_list[1]  #the index we are deleting\n",
    "linked_list[0]=(1,2) #since we deleted the linked list at index 1, we lost the value and its pointer, so we must say where we want the pointer to go to and that is index 2\n",
    "                     #basically, we are regiving it the next node to go to since, we deleted the one it was pointing to, its like an update that the value 1 is now pointed to index 2 since index 1 nolonger exists\n",
    "display_linked_list()"
   ]
  },
  {
   "cell_type": "code",
   "execution_count": 4,
   "metadata": {},
   "outputs": [
    {
     "name": "stdout",
     "output_type": "stream",
     "text": [
      "stack [1, 2, 3]\n",
      "popped element 3\n",
      "top most element 2\n"
     ]
    }
   ],
   "source": [
    "#STACKS - last in first out , it is like a cylinder with one open end\n",
    "\n",
    "stack=[]\n",
    "stack.append(1)\n",
    "stack.append(2)\n",
    "stack.append(3)\n",
    "print(\"stack\",stack)\n",
    "\n",
    "#removing elements from a stack\n",
    "if stack:\n",
    "    popped=stack.pop()\n",
    "    print(\"popped element\",popped) \n",
    "\n",
    "#how to view the top most element\n",
    "if stack:\n",
    "    print(\"top most element\",stack[-1])"
   ]
  },
  {
   "cell_type": "code",
   "execution_count": 5,
   "metadata": {},
   "outputs": [
    {
     "name": "stdout",
     "output_type": "stream",
     "text": [
      "queue:  deque([1, 2, 3])\n",
      "queue is now a list [1, 2, 3]\n",
      "removed_element 1\n",
      "front element 2\n"
     ]
    }
   ],
   "source": [
    "#QUEUE -first in first out , it is open ended\n",
    "\n",
    "from collections import deque\n",
    "\n",
    "queue=deque()\n",
    "\n",
    "#addind data to a queue\n",
    "queue.append(1)\n",
    "queue.append(2)\n",
    "queue.append(3)\n",
    "\n",
    "print(\"queue: \",queue)\n",
    "\n",
    "#to get rid of the deque, we convert it to a list\n",
    "print(\"queue is now a list\", list(queue))\n",
    "\n",
    "#since we work with the first element that came in, and queues use first in first out, we pop from the most left, i.e the very first object\n",
    "if queue:\n",
    "    removed_element=queue.popleft()\n",
    "    print(\"removed_element\",removed_element)\n",
    "\n",
    "#how to view the top most element\n",
    "if queue:\n",
    "    print(\"front element\",queue[0])\n",
    "\n"
   ]
  }
 ],
 "metadata": {
  "kernelspec": {
   "display_name": "Python 3",
   "language": "python",
   "name": "python3"
  },
  "language_info": {
   "codemirror_mode": {
    "name": "ipython",
    "version": 3
   },
   "file_extension": ".py",
   "mimetype": "text/x-python",
   "name": "python",
   "nbconvert_exporter": "python",
   "pygments_lexer": "ipython3",
   "version": "3.12.5"
  }
 },
 "nbformat": 4,
 "nbformat_minor": 2
}
