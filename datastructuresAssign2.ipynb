{
 "cells": [
  {
   "cell_type": "markdown",
   "metadata": {},
   "source": [
    "- NAMUGENYI LISA LUSINGA      \n",
    "S24B38/010     \n",
    "B30300"
   ]
  },
  {
   "cell_type": "markdown",
   "metadata": {},
   "source": [
    "# 1. LIST OPERATIONS"
   ]
  },
  {
   "cell_type": "code",
   "execution_count": 1,
   "metadata": {},
   "outputs": [
    {
     "name": "stdout",
     "output_type": "stream",
     "text": [
      "First fruit is apple\n",
      "Last fruit is cherry\n",
      "['apple', 'banana', 'cherry', 'mango', 'grape']\n",
      "['apple', 'cherry', 'mango', 'grape']\n",
      "['grape', 'mango', 'cherry', 'apple']\n"
     ]
    }
   ],
   "source": [
    "#1.creating a variable called fruits that contains a list of fruits.\n",
    "fruits=[\"apple\",\"banana\",\"cherry\"]\n",
    "\n",
    "#2. \n",
    "print(f\"First fruit is {fruits[0]}\")\n",
    "print(f\"Last fruit is {fruits[-1]}\")\n",
    "\n",
    "#Adding two fruits to the list, we use the append function to add elements to the end of a list, one at a time.\n",
    "fruits.append(\"mango\")\n",
    "fruits.append(\"grape\")\n",
    "print(fruits)\n",
    "\n",
    "#Removing the second fruit, we use the pop function to remove an element from the list at a specified index.\n",
    "fruits.pop(1)\n",
    "print(fruits)\n",
    "\n",
    "#Reverse the order, we use the reverse function to reverse the list of fruits.\n",
    "fruits.reverse()\n",
    "print(fruits)\n"
   ]
  },
  {
   "cell_type": "markdown",
   "metadata": {},
   "source": [
    "# 2.ADDING AND REMOVING ITEMS FROM A LIST"
   ]
  },
  {
   "cell_type": "code",
   "execution_count": 2,
   "metadata": {},
   "outputs": [
    {
     "name": "stdout",
     "output_type": "stream",
     "text": [
      "['pens']\n",
      "['pens', 'pencils']\n",
      "['pens', 'pencils', 'erasers']\n",
      "Removed items are : pens\n",
      "Removed items are : pencils\n",
      "Removed items are : erasers\n",
      "The list is empty\n"
     ]
    }
   ],
   "source": [
    "#1. Creating an empty list\n",
    "items=[]\n",
    "\n",
    "#we defined a function to add elements to a list using the append function. \n",
    "def add_items(list_name,item):\n",
    "    list_name.append(item)\n",
    "    print(list_name)\n",
    "\n",
    "\n",
    "#we defined a function to remove elements from a list using the pop function at index 0\n",
    "def remove_items(list_name):\n",
    "    if list_name:\n",
    "        return list_name.pop(0)\n",
    "    else:\n",
    "        return None\n",
    "\n",
    "\n",
    "# 3. Testing the functions\n",
    "# add items to the list by calling the function add_items\n",
    "add_items(items,\"pens\")\n",
    "add_items(items,\"pencils\")\n",
    "add_items(items,\"erasers\")\n",
    "\n",
    "#we use the while True to create an infinite loop such that the code inside the loop keeps running until we stop it with the break statement when the list is found to be empty.\n",
    "while True:\n",
    "    removed_item=remove_items(items)\n",
    "    if removed_item is not None:\n",
    "        print(f\"Removed items are : {removed_item}\")\n",
    "    else:\n",
    "        print(\"The list is empty\")\n",
    "        break"
   ]
  },
  {
   "cell_type": "markdown",
   "metadata": {},
   "source": [
    "# 3.DICTIONARY OPERATIONS"
   ]
  },
  {
   "cell_type": "code",
   "execution_count": 3,
   "metadata": {},
   "outputs": [
    {
     "name": "stdout",
     "output_type": "stream",
     "text": [
      "updated-library:{'Fiction': ['Book1', 'Book2'], 'Non-Fiction': ['Book3', 'Book4']}\n",
      "{'Fiction': ['Book1'], 'Non-Fiction': ['Book3', 'Book4']}\n",
      "['Book3', 'Book4']\n",
      "dict_keys(['Fiction', 'Non-Fiction'])\n",
      "dict_values([['Book1'], ['Book3', 'Book4']])\n"
     ]
    }
   ],
   "source": [
    "#1. Creating a dictionary\n",
    "library={\n",
    "    \"Fiction\":[\"Book1\",\"Book2\"],\n",
    "    \"Non-Fiction\":[\"Book3\"]\n",
    "}\n",
    "\n",
    "#adding a new book to one of the genres\n",
    "new_book=\"Book4\"\n",
    "library[\"Non-Fiction\"].append(new_book)\n",
    "print(f\"updated-library:{library}\")\n",
    "\n",
    "#removing a book from a specific genre using the remove function\n",
    "library[\"Fiction\"].remove(\"Book2\")\n",
    "print(library)\n",
    "\n",
    "#printing the books in a specific genre\n",
    "print(library[\"Non-Fiction\"])\n",
    "\n",
    "#printing all the keys and values in the dictionary\n",
    "print(library.keys())\n",
    "print(library.values())"
   ]
  },
  {
   "cell_type": "markdown",
   "metadata": {},
   "source": [
    "# 4. NESTED DICTIONARY"
   ]
  },
  {
   "cell_type": "code",
   "execution_count": null,
   "metadata": {},
   "outputs": [
    {
     "name": "stdout",
     "output_type": "stream",
     "text": [
      "dict_keys(['Country'])\n",
      "dict_keys(['State'])\n",
      "dict_items([('City', ['Neighborhood1', 'Neighborhood2'])])\n",
      "Country\n",
      "State\n",
      "City\n",
      "Neighborhood1\n",
      "Neighborhood2\n"
     ]
    }
   ],
   "source": [
    "# 1. Creating a nested dictionary\n",
    "locations={\n",
    "    \"Country\":{\n",
    "        \"State\":{\n",
    "            \"City\":[\"Neighborhood1\",\"Neighborhood2\"]\n",
    "        }\n",
    "    }\n",
    "}\n",
    "\n",
    "#2.accessing and printing the elements\n",
    "print(locations.keys())\n",
    "print(locations[\"Country\"].keys())\n",
    "print(locations[\"Country\"][\"State\"].items())\n",
    "\n",
    "#we used a nested for loop to access each level of the loop because we are working with a nested dictionary where each level contains another dictionary.\n",
    "for country in locations:\n",
    "    print(country)\n",
    "    for state in locations[\"Country\"]:\n",
    "        print(state)\n",
    "        for city in locations[\"Country\"][\"State\"]:\n",
    "            print(city)\n",
    "            for neighborhood in locations[\"Country\"][\"State\"][\"City\"]:\n",
    "                print(neighborhood)"
   ]
  }
 ],
 "metadata": {
  "kernelspec": {
   "display_name": "Python 3",
   "language": "python",
   "name": "python3"
  },
  "language_info": {
   "codemirror_mode": {
    "name": "ipython",
    "version": 3
   },
   "file_extension": ".py",
   "mimetype": "text/x-python",
   "name": "python",
   "nbconvert_exporter": "python",
   "pygments_lexer": "ipython3",
   "version": "3.12.5"
  }
 },
 "nbformat": 4,
 "nbformat_minor": 2
}
