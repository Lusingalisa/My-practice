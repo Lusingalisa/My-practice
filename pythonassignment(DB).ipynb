{
 "cells": [
  {
   "cell_type": "markdown",
   "metadata": {},
   "source": [
    "- NAMUGENYI LISA LUSINGA B30300 S24B38/010"
   ]
  },
  {
   "cell_type": "markdown",
   "metadata": {},
   "source": [
    "## SECTION 1"
   ]
  },
  {
   "cell_type": "markdown",
   "metadata": {},
   "source": [
    "# 1.\n",
    "- Python variables are containers used to store data variables.\n",
    "- Data types are what we use to classdifferent types of data.\n",
    "for example:\n",
    "X=45\n",
    "so in this case, X is the python variable and 45 is a data type known as integers.\n",
    "X is considered a variable because it holds our data type."
   ]
  },
  {
   "cell_type": "markdown",
   "metadata": {},
   "source": [
    "# 2.\n",
    "- if, elif and else statements are conditional statements used to determine whether a block of code will be executed. If gives the first condition, when not met the second condition is moved to and if it is also not met, then the result is what is under the else statement."
   ]
  },
  {
   "cell_type": "code",
   "execution_count": 5,
   "metadata": {},
   "outputs": [
    {
     "name": "stdout",
     "output_type": "stream",
     "text": [
      "the number is positive\n"
     ]
    }
   ],
   "source": [
    "user_input= 5\n",
    "if user_input>0:\n",
    "    print(\"the number is positive\")\n",
    "elif user_input<0:\n",
    "    print(\"The number is negative.\")\n",
    "else:\n",
    "    print(\"The number is zero\")"
   ]
  },
  {
   "cell_type": "markdown",
   "metadata": {},
   "source": [
    "# 3. \n",
    "- a for loop is used when the number of iterations is known.\n",
    "- a while loop is used until the statement in a program is proved wrong, therefore it is continuous."
   ]
  },
  {
   "cell_type": "code",
   "execution_count": 7,
   "metadata": {},
   "outputs": [
    {
     "name": "stdout",
     "output_type": "stream",
     "text": [
      "1\n",
      "2\n",
      "3\n",
      "4\n",
      "5\n",
      "6\n",
      "7\n",
      "8\n",
      "9\n",
      "10\n"
     ]
    }
   ],
   "source": [
    "for i in range(1,11):\n",
    "    print(i)"
   ]
  },
  {
   "cell_type": "code",
   "execution_count": 11,
   "metadata": {},
   "outputs": [
    {
     "name": "stdout",
     "output_type": "stream",
     "text": [
      "1\n",
      "2\n",
      "3\n",
      "4\n",
      "5\n",
      "6\n",
      "7\n",
      "8\n",
      "9\n",
      "10\n"
     ]
    }
   ],
   "source": [
    "number =1\n",
    "while number <= 10:\n",
    "    print(number)\n",
    "    number +=1"
   ]
  },
  {
   "cell_type": "markdown",
   "metadata": {},
   "source": [
    "# 4.\n",
    "- the break statement stops the current loop, continue skips a specificed iteration in the loop and pass is used as a place holder for future code.\n",
    "- pass is used to define a block of code that will be implemented later"
   ]
  },
  {
   "cell_type": "code",
   "execution_count": 12,
   "metadata": {},
   "outputs": [
    {
     "name": "stdout",
     "output_type": "stream",
     "text": [
      "1\n",
      "3\n",
      "5\n",
      "7\n",
      "9\n"
     ]
    }
   ],
   "source": [
    "count = 1\n",
    "while count <= 10:\n",
    "    if count %2 == 0:\n",
    "        count +=1\n",
    "        continue\n",
    "    print(count)\n",
    "    count +=1"
   ]
  },
  {
   "cell_type": "code",
   "execution_count": 14,
   "metadata": {},
   "outputs": [
    {
     "name": "stdout",
     "output_type": "stream",
     "text": [
      "1\n",
      "2\n",
      "3\n",
      "4\n"
     ]
    }
   ],
   "source": [
    "count = 1\n",
    "while count <= 10:\n",
    "    if count %5 == 0:\n",
    "        count +=1\n",
    "        break\n",
    "    print(count)\n",
    "    count +=1"
   ]
  },
  {
   "cell_type": "code",
   "execution_count": 15,
   "metadata": {},
   "outputs": [
    {
     "name": "stdout",
     "output_type": "stream",
     "text": [
      "1\n",
      "3\n",
      "5\n",
      "7\n",
      "9\n",
      "11\n"
     ]
    }
   ],
   "source": [
    "count = 1\n",
    "while count <= 10:\n",
    "    if count %2 == 0:\n",
    "        count +=1\n",
    "        pass\n",
    "    print(count)\n",
    "    count +=1"
   ]
  },
  {
   "cell_type": "code",
   "execution_count": 2,
   "metadata": {},
   "outputs": [
    {
     "name": "stdout",
     "output_type": "stream",
     "text": [
      "0\n",
      "1\n",
      "3\n",
      "4\n"
     ]
    }
   ],
   "source": [
    "for i in range(5):\n",
    "    if i ==2:\n",
    "        pass\n",
    "    else:\n",
    "        print(i)"
   ]
  },
  {
   "cell_type": "markdown",
   "metadata": {},
   "source": [
    "## SECTION 2"
   ]
  },
  {
   "cell_type": "markdown",
   "metadata": {},
   "source": [
    "# 1.\n",
    "- a function is defined by useing the word def followed by its desired name and parantheses.\n",
    "for example; def average():\n",
    "- a function is called by using the name given to it followed by prantheses.\n",
    "for example; average()"
   ]
  },
  {
   "cell_type": "code",
   "execution_count": 4,
   "metadata": {},
   "outputs": [
    {
     "data": {
      "text/plain": [
       "14"
      ]
     },
     "execution_count": 4,
     "metadata": {},
     "output_type": "execute_result"
    }
   ],
   "source": [
    "def sum(a,b):\n",
    "    return a+b\n",
    "\n",
    "sum(8,6)"
   ]
  },
  {
   "cell_type": "markdown",
   "metadata": {},
   "source": [
    "# 2.\n",
    "- default arguments are used when a user has not input a value in the parameter. so when an function is called without passing an argument in the parameter, the default value is used.\n",
    "- keyword arguments specify the value in the parameter of a function therefore the arguments can be passed in any order. They map a value to a keyword."
   ]
  },
  {
   "cell_type": "code",
   "execution_count": 7,
   "metadata": {},
   "outputs": [
    {
     "name": "stdout",
     "output_type": "stream",
     "text": [
      "Welcome,Guest!\n",
      "Welcome,Anna!\n"
     ]
    }
   ],
   "source": [
    "def welcome(name=\"Guest\"):\n",
    "    print(f\"Welcome,{name}!\")\n",
    "\n",
    "welcome()\n",
    "welcome(\"Anna\")"
   ]
  },
  {
   "cell_type": "markdown",
   "metadata": {},
   "source": [
    "# 3.\n",
    "- lambda functions are functions that are defined without a name and can take any number of arguments. they are usually executed as onle line of code and return only one expression. \n",
    "- they are usually used for small temporary or short operations."
   ]
  },
  {
   "cell_type": "code",
   "execution_count": 8,
   "metadata": {},
   "outputs": [
    {
     "name": "stdout",
     "output_type": "stream",
     "text": [
      "The sorted list is [(6, 0), (5, 1), (2, 4), (3, 8)]\n"
     ]
    }
   ],
   "source": [
    "tuples_list = [(2,4),(5,1),(3,8),(6,0)]\n",
    "sorted_list = sorted(tuples_list, key=lambda x:x[1])\n",
    "print(f\"The sorted list is {sorted_list}\")"
   ]
  },
  {
   "cell_type": "markdown",
   "metadata": {},
   "source": [
    "# 4.\n",
    "- a local variable is one that can only be accesed within the function because it was declarred within the function so when called outisde of it, we get an error.\n",
    "- a global variable is one that is declared outisde of a function so can be accesed anytime both inside and outisde the function.\n",
    "- a nonlocal variable is used within nested functions to indicate that a variable is not local to the inner function but belongs to the enclosing function's scope."
   ]
  },
  {
   "cell_type": "code",
   "execution_count": 6,
   "metadata": {},
   "outputs": [
    {
     "name": "stdout",
     "output_type": "stream",
     "text": [
      "2\n",
      "3\n",
      "4\n",
      "5\n",
      "6\n",
      "7\n"
     ]
    }
   ],
   "source": [
    "## x is a local variable so it cannot be called outside the function\n",
    "def outer_function():\n",
    "    def inner_function():\n",
    "        x=1\n",
    "        for i in range(6):\n",
    "            x+=1\n",
    "            print(x)\n",
    "    inner_function()\n",
    "outer_function()"
   ]
  },
  {
   "cell_type": "code",
   "execution_count": 7,
   "metadata": {},
   "outputs": [
    {
     "name": "stdout",
     "output_type": "stream",
     "text": [
      "I am Judas Iscariot\n"
     ]
    }
   ],
   "source": [
    "#y is a global variable and it can be modified within a nested function using the keyword global\n",
    "y = \"I am Judas\"\n",
    "\n",
    "def outer():\n",
    "    def inner():\n",
    "        global y\n",
    "        y = \"I am Judas Iscariot\"\n",
    "        print(y)\n",
    "    inner()\n",
    "outer()"
   ]
  },
  {
   "cell_type": "code",
   "execution_count": 12,
   "metadata": {},
   "outputs": [
    {
     "name": "stdout",
     "output_type": "stream",
     "text": [
      "I am a computing student!\n",
      "I am a computing student at UCU\n"
     ]
    }
   ],
   "source": [
    "#message is the non local variable that belongs to the enclosing function(function_one) which can be modidfied by the nested function using the keyword nonlocal\n",
    "def function_one():\n",
    "    message= \"I am a computing student!\"\n",
    "\n",
    "    def function_two():\n",
    "        nonlocal message\n",
    "        message= \"I am a computing student at UCU\"\n",
    "         \n",
    "    \n",
    "    print(message) #the initial message\n",
    "    function_two()\n",
    "    print(message) # the modified message after calling the nested function\n",
    "function_one()\n"
   ]
  },
  {
   "cell_type": "markdown",
   "metadata": {},
   "source": [
    "## SECTION 3"
   ]
  },
  {
   "cell_type": "markdown",
   "metadata": {},
   "source": [
    "# 1.\n",
    "- lists in python are a cllection of items of different datatypes that are ordered or mutable.\n",
    "- slicing a list allows us to acces specific parts of a list as desired.\n",
    "- append adds an item at the end of the list\n",
    "- pop removes the last item of a list when no index is provided and it can also be used to remove and return an item to a specific position in a list.\n"
   ]
  },
  {
   "cell_type": "code",
   "execution_count": 23,
   "metadata": {},
   "outputs": [
    {
     "name": "stdout",
     "output_type": "stream",
     "text": [
      "['watermelons', 'grapes']\n",
      "['apples', 'bananas', 'watermelons', 'grapes', 'mangoes']\n",
      "['apples', 'bananas', 'watermelons', 'grapes']\n",
      "['apples', 'watermelons', 'grapes']\n",
      "The removed fruit was bananas\n"
     ]
    }
   ],
   "source": [
    "# SLICING\n",
    "fruits=['apples','bananas','watermelons','grapes']\n",
    "print(fruits[2:])\n",
    "\n",
    "# ADDING ELEMENTS TO A LIST\n",
    "fruits.append(\"mangoes\")\n",
    "print(fruits)\n",
    "\n",
    "# REMOVING ELEMENTS FROM END OF A LIST\n",
    "fruits.pop()\n",
    "print(fruits)\n",
    "\n",
    "# REMOVING ELEMENTS AT A SPECIFIC INDEX\n",
    "second_fruit=fruits.pop(1)\n",
    "print(fruits)\n",
    "print(f\"The removed fruit was {second_fruit}\")"
   ]
  },
  {
   "cell_type": "markdown",
   "metadata": {},
   "source": [
    "# 2.\n",
    "- dictionaries are used in python to store key-value pairs. A key is a unique identifier of an item such as a name, while a value is the data associated with that key like John is a name."
   ]
  },
  {
   "cell_type": "code",
   "execution_count": 27,
   "metadata": {},
   "outputs": [
    {
     "name": "stdout",
     "output_type": "stream",
     "text": [
      "dict_keys(['name', 'gender', 'nationality'])\n",
      "dict_values(['James', 'male', 'Ugandan'])\n",
      "dict_items([('name', 'James'), ('gender', 'male'), ('nationality', 'Ugandan')])\n"
     ]
    }
   ],
   "source": [
    "## USING KEYS\n",
    "person={\"name\":\"James\",\"gender\":\"male\",\"nationality\":\"Ugandan\"}\n",
    "the_keys=person.keys()\n",
    "print(the_keys)\n",
    "\n",
    "## USING VALUES\n",
    "the_values=person.values()\n",
    "print(the_values)\n",
    "\n",
    "## USING ITEMS\n",
    "the_items=person.items()\n",
    "print(the_items)"
   ]
  },
  {
   "cell_type": "markdown",
   "metadata": {},
   "source": [
    "# 3. \n",
    "- sets are data structures in python that store uique elements of the same type in an unsorted order. they store several items in a single variable.\n",
    "- union combines all the elements of two sets.\n",
    "- intersection returns the elements that appear in both sets.\n",
    "- difference returns elements in the first set that are not in the second.\n"
   ]
  },
  {
   "cell_type": "code",
   "execution_count": 5,
   "metadata": {},
   "outputs": [
    {
     "name": "stdout",
     "output_type": "stream",
     "text": [
      "{'e', 'b', 'f', 'a', 'c'}\n",
      "{'c'}\n",
      "{'a', 'b'}\n"
     ]
    }
   ],
   "source": [
    "# UNION\n",
    "setA ={'a','b','c'}\n",
    "setB ={'c','e','f'}\n",
    "print(setA | setB)\n",
    "\n",
    "# INTERSECTION\n",
    "print(setA & setB)\n",
    "\n",
    "# DIFFERENCE\n",
    "print(setA - setB)"
   ]
  },
  {
   "cell_type": "markdown",
   "metadata": {},
   "source": [
    "# 4.\n",
    "- Tuples are ordered, therefore the items in a tuple have a specific order.\n",
    "- they are immutable, so they can't be changed after creating them.\n",
    "- tuples allow the existence of a same item more than once."
   ]
  },
  {
   "cell_type": "code",
   "execution_count": 9,
   "metadata": {},
   "outputs": [
    {
     "name": "stdout",
     "output_type": "stream",
     "text": [
      "(6, 7, 8, 9)\n",
      "6\n",
      "8\n",
      "(7, 8)\n"
     ]
    }
   ],
   "source": [
    "# TUPLE CREATION\n",
    "tuple_sample =(6,7,8,9)\n",
    "print(tuple_sample)\n",
    "\n",
    "# TUPLE INDEXING\n",
    "print(tuple_sample[0])\n",
    "print(tuple_sample[-2])\n",
    "\n",
    "# TUPLE SLICING\n",
    "print(tuple_sample[1:3])"
   ]
  },
  {
   "cell_type": "markdown",
   "metadata": {},
   "source": [
    "# 5.\n",
    "- python strings are sequences of characters that are created using single or double quotes and are immutable.\n",
    "- split is used to separate a string into substrings based on a specific separator like whitespaces on default.\n",
    "- join is used to join elements that are being separated by a string separator that has been specified such as a hyphen.\n",
    "- replace returns the new string with the replacements and leaves the original unchanged.\n"
   ]
  },
  {
   "cell_type": "code",
   "execution_count": 20,
   "metadata": {},
   "outputs": [
    {
     "name": "stdout",
     "output_type": "stream",
     "text": [
      "elco\n",
      "Hello, I am Ugandan\n",
      " WELCOME HOME!\n",
      " I love Home!\n",
      "Welcome Home!\n",
      "False\n"
     ]
    }
   ],
   "source": [
    "text =\" Welcome Home!\"\n",
    "# SLICING\n",
    "print(text[2:6])\n",
    " \n",
    "# FORMATTING\n",
    "nationality =\"Ugandan\"\n",
    "print(f\"Hello, I am {nationality}\")\n",
    "\n",
    "# MANIPULATION\n",
    "print(text.upper()) #prints the text in upper case\n",
    "print(text.replace(\"Welcome\",\"I love\")) #replacing the word welcome with i love\n",
    "print(text.strip()) # removes any whitespace in the string\n",
    "print(text.startswith(\"Welcome\")) # checks if the string starts with the specified substring and returns a boolean "
   ]
  },
  {
   "cell_type": "markdown",
   "metadata": {},
   "source": [
    "## SECTION 4"
   ]
  },
  {
   "cell_type": "markdown",
   "metadata": {},
   "source": [
    "# 1.\n",
    "- len is used to find out the number of elements in an object.\n",
    "- sum is used to find the total of elements in an iterable.\n",
    "- max is used to find the highest value in a given list of arguments.\n",
    "- min is used to find the lowest value from a given list of arguments."
   ]
  },
  {
   "cell_type": "code",
   "execution_count": 12,
   "metadata": {},
   "outputs": [
    {
     "name": "stdout",
     "output_type": "stream",
     "text": [
      "5\n",
      "172\n",
      "67\n",
      "12\n"
     ]
    }
   ],
   "source": [
    "numbers=[30,12,44,67,19]\n",
    "\n",
    "print(len(numbers))\n",
    "print(sum(numbers))\n",
    "print(max(numbers))\n",
    "print(min(numbers))\n"
   ]
  }
 ],
 "metadata": {
  "kernelspec": {
   "display_name": "Python 3",
   "language": "python",
   "name": "python3"
  },
  "language_info": {
   "codemirror_mode": {
    "name": "ipython",
    "version": 3
   },
   "file_extension": ".py",
   "mimetype": "text/x-python",
   "name": "python",
   "nbconvert_exporter": "python",
   "pygments_lexer": "ipython3",
   "version": "3.12.5"
  }
 },
 "nbformat": 4,
 "nbformat_minor": 2
}
