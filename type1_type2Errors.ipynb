{
 "cells": [
  {
   "cell_type": "code",
   "execution_count": 4,
   "metadata": {},
   "outputs": [],
   "source": [
    "import pandas as pd\n",
    "import numpy as np\n",
    "from scipy import stats\n",
    "import matplotlib.pyplot as plt\n",
    "\n",
    "# Set random seed for reproducibility\n",
    "np.random.seed(42)"
   ]
  },
  {
   "cell_type": "code",
   "execution_count": 5,
   "metadata": {},
   "outputs": [
    {
     "data": {
      "text/html": [
       "<div>\n",
       "<style scoped>\n",
       "    .dataframe tbody tr th:only-of-type {\n",
       "        vertical-align: middle;\n",
       "    }\n",
       "\n",
       "    .dataframe tbody tr th {\n",
       "        vertical-align: top;\n",
       "    }\n",
       "\n",
       "    .dataframe thead th {\n",
       "        text-align: right;\n",
       "    }\n",
       "</style>\n",
       "<table border=\"1\" class=\"dataframe\">\n",
       "  <thead>\n",
       "    <tr style=\"text-align: right;\">\n",
       "      <th></th>\n",
       "      <th>price</th>\n",
       "      <th>carat</th>\n",
       "      <th>cut</th>\n",
       "      <th>color</th>\n",
       "      <th>clarity</th>\n",
       "      <th>depth</th>\n",
       "      <th>table</th>\n",
       "      <th>x</th>\n",
       "      <th>y</th>\n",
       "      <th>z</th>\n",
       "    </tr>\n",
       "  </thead>\n",
       "  <tbody>\n",
       "    <tr>\n",
       "      <th>0</th>\n",
       "      <td>326</td>\n",
       "      <td>0.23</td>\n",
       "      <td>Ideal</td>\n",
       "      <td>E</td>\n",
       "      <td>SI2</td>\n",
       "      <td>61.5</td>\n",
       "      <td>55.0</td>\n",
       "      <td>3.95</td>\n",
       "      <td>3.98</td>\n",
       "      <td>2.43</td>\n",
       "    </tr>\n",
       "    <tr>\n",
       "      <th>1</th>\n",
       "      <td>326</td>\n",
       "      <td>0.21</td>\n",
       "      <td>Premium</td>\n",
       "      <td>E</td>\n",
       "      <td>SI1</td>\n",
       "      <td>59.8</td>\n",
       "      <td>61.0</td>\n",
       "      <td>3.89</td>\n",
       "      <td>3.84</td>\n",
       "      <td>2.31</td>\n",
       "    </tr>\n",
       "    <tr>\n",
       "      <th>2</th>\n",
       "      <td>327</td>\n",
       "      <td>0.23</td>\n",
       "      <td>Good</td>\n",
       "      <td>E</td>\n",
       "      <td>VS1</td>\n",
       "      <td>56.9</td>\n",
       "      <td>65.0</td>\n",
       "      <td>4.05</td>\n",
       "      <td>4.07</td>\n",
       "      <td>2.31</td>\n",
       "    </tr>\n",
       "    <tr>\n",
       "      <th>3</th>\n",
       "      <td>334</td>\n",
       "      <td>0.29</td>\n",
       "      <td>Premium</td>\n",
       "      <td>I</td>\n",
       "      <td>VS2</td>\n",
       "      <td>62.4</td>\n",
       "      <td>58.0</td>\n",
       "      <td>4.20</td>\n",
       "      <td>4.23</td>\n",
       "      <td>2.63</td>\n",
       "    </tr>\n",
       "    <tr>\n",
       "      <th>4</th>\n",
       "      <td>335</td>\n",
       "      <td>0.31</td>\n",
       "      <td>Good</td>\n",
       "      <td>J</td>\n",
       "      <td>SI2</td>\n",
       "      <td>63.3</td>\n",
       "      <td>58.0</td>\n",
       "      <td>4.34</td>\n",
       "      <td>4.35</td>\n",
       "      <td>2.75</td>\n",
       "    </tr>\n",
       "  </tbody>\n",
       "</table>\n",
       "</div>"
      ],
      "text/plain": [
       "   price  carat      cut color clarity  depth  table     x     y     z\n",
       "0    326   0.23    Ideal     E     SI2   61.5   55.0  3.95  3.98  2.43\n",
       "1    326   0.21  Premium     E     SI1   59.8   61.0  3.89  3.84  2.31\n",
       "2    327   0.23     Good     E     VS1   56.9   65.0  4.05  4.07  2.31\n",
       "3    334   0.29  Premium     I     VS2   62.4   58.0  4.20  4.23  2.63\n",
       "4    335   0.31     Good     J     SI2   63.3   58.0  4.34  4.35  2.75"
      ]
     },
     "execution_count": 5,
     "metadata": {},
     "output_type": "execute_result"
    }
   ],
   "source": [
    "# Load the diamonds dataset\n",
    "diamonds = pd.read_excel('/Users/lisalusinga/Desktop/YEAR 1 SEM 2/PROBABILITY & STATISTICS/hypothesis_work/diamonds_new.xlsx')\n",
    "diamonds.head()"
   ]
  },
  {
   "cell_type": "code",
   "execution_count": 16,
   "metadata": {},
   "outputs": [
    {
     "name": "stdout",
     "output_type": "stream",
     "text": [
      "Mean price of the full dataset is 3933.5\n"
     ]
    }
   ],
   "source": [
    "#calculating the mean\n",
    "mean_price=diamonds['price'].mean()\n",
    "print(f\"Mean price of the full dataset is {mean_price:.1f}\")"
   ]
  },
  {
   "cell_type": "code",
   "execution_count": 29,
   "metadata": {},
   "outputs": [
    {
     "name": "stdout",
     "output_type": "stream",
     "text": [
      "The standard deviation of price is 3989.963676930876\n"
     ]
    }
   ],
   "source": [
    "#calculating the standard deviation\n",
    "standard_dev=diamonds['price'].std()\n",
    "print(f\"The standard deviation of price is {standard_dev}\")"
   ]
  },
  {
   "cell_type": "code",
   "execution_count": null,
   "metadata": {},
   "outputs": [
    {
     "name": "stdout",
     "output_type": "stream",
     "text": [
      "Null Hypothesis: 3933.5\n",
      "Simulated Type I Error Rate (alpha): 0.0501 (Expected: 0.05)\n"
     ]
    }
   ],
   "source": [
    "# Parameters\n",
    "null = 3933.5         # Null hypothesis mean price\n",
    "sd = diamonds['price'].std()  # Standard deviation from the dataset\n",
    "n = 30              # Sample size\n",
    "alpha = 0.05        # Significance level (Type I error rate)\n",
    "num_simulations = 10000  # Number of simulations\n",
    "\n",
    "# Function to simulate Type I error (null hypothesis is true)\n",
    "def simulate_type_1_error():\n",
    "    p_values = []\n",
    "    for _ in range(num_simulations):\n",
    "        # Simulate sample under null hypothesis: mean = null hypothesis, using dataset's standard deviation\n",
    "        sample = np.random.normal(null, sd, n)\n",
    "        t_stat, p_val = stats.ttest_1samp(sample, null)\n",
    "        p_values.append(p_val)\n",
    "    \n",
    "    # Type I error: Reject null hypothesis when it’s true (p < alpha)\n",
    "    type_1_errors = np.sum(np.array(p_values) < alpha)\n",
    "    return type_1_errors / num_simulations\n",
    "\n",
    "# Run simulation\n",
    "type_1_rate = simulate_type_1_error()\n",
    "\n",
    "# Print result\n",
    "print(f\"Null Hypothesis: {null}\")\n",
    "print(f\"Simulated Type I Error Rate (alpha): {type_1_rate} (Expected: {alpha})\")"
   ]
  },
  {
   "cell_type": "code",
   "execution_count": 32,
   "metadata": {},
   "outputs": [
    {
     "name": "stdout",
     "output_type": "stream",
     "text": [
      "Actual sample test: Sample Mean = $3529.4, t-statistic = -0.584, p-value = 0.564\n",
      "Fail to reject H₀: No significant difference from 3933.5\n"
     ]
    }
   ],
   "source": [
    "# Testing on a real sample from the dataset\n",
    "sample = diamonds['price'].sample(n, random_state=42)\n",
    "sample_mean = sample.mean()\n",
    "t_stat, p_val = stats.ttest_1samp(sample, null)\n",
    "print(f\"Actual sample test: Sample Mean = ${sample_mean:.1f}, t-statistic = {t_stat:.3f}, p-value = {p_val:.3f}\")\n",
    "if p_val < alpha:\n",
    "    print(\"Reject H₀: The sample mean significantly differs from 3933.5\")\n",
    "else:\n",
    "    print(\"Fail to reject H₀: No significant difference from 3933.5\")"
   ]
  },
  {
   "cell_type": "markdown",
   "metadata": {},
   "source": [
    "- Since we did  not reject the null hypothesis, there is no type 1 error here. This means the p_value of 0.564 is in the 95% where we correctly do not reject the null hypothesis."
   ]
  },
  {
   "cell_type": "code",
   "execution_count": 35,
   "metadata": {},
   "outputs": [
    {
     "data": {
      "image/png": "[encoded data removed]",
      "text/plain": [
       "<Figure size 640x480 with 1 Axes>"
      ]
     },
     "metadata": {},
     "output_type": "display_data"
    },
    {
     "data": {
      "text/plain": [
       "'\\nWe used axvline which represents axis vertical line for adding vertical lines at specified x-coordinates for things like critical values and boundaries\\n'"
      ]
     },
     "execution_count": 35,
     "metadata": {},
     "output_type": "execute_result"
    }
   ],
   "source": [
    "# Generate null distribution (sample means under H₀)\n",
    "null_dist = np.random.normal(null, sd / np.sqrt(n), 10000)\n",
    "\n",
    "# Critical values (two-tailed)\n",
    "critical_value = stats.t.ppf(1 - alpha/2, df=n-1) * (sd / np.sqrt(n))\n",
    "#we calculate the critical values with stats.t.ppf to show the rejection regions for alpha=0.05\n",
    "\n",
    "plt.hist(null_dist, bins=30, color=\"blue\", alpha=0.7, label=\"nullHypothesis (mean = 3933.5)\")\n",
    "plt.axvline(null, color=\"black\", label=\"Null Mean\")\n",
    "plt.axvline(null - critical_value, color=\"red\", linestyle=\"--\", label=\"Rejection\")\n",
    "plt.axvline(null + critical_value, color=\"red\", linestyle=\"--\")\n",
    "plt.axvline(sample_mean, color=\"green\", label=f\"Sample Mean ({sample_mean})\")\n",
    "plt.text(sample_mean, plt.ylim()[1] * 0.8, f\"p = {p_val}\", color=\"green\")\n",
    "plt.title(\"Sample Test vs Null Hypothesis\")\n",
    "plt.xlabel(\"Sample Mean \")\n",
    "plt.legend()\n",
    "plt.show()\n",
    "\n",
    "\"\"\"\n",
    "We used axvline which represents axis vertical line for adding vertical lines at specified x-coordinates for things like critical values and boundaries\n",
    "\"\"\""
   ]
  },
  {
   "cell_type": "markdown",
   "metadata": {},
   "source": [
    "# TYPE 2 ERROR"
   ]
  },
  {
   "cell_type": "code",
   "execution_count": 50,
   "metadata": {},
   "outputs": [
    {
     "name": "stdout",
     "output_type": "stream",
     "text": [
      "Null Hypothesis Mean : 3933.5\n",
      "Alternative Hypothesis Mean : 4500.0\n",
      "Simulated Type II Error Rate (beta): 0.885\n",
      "Power of the test (1-beta):0.115\n"
     ]
    }
   ],
   "source": [
    "# Parameters\n",
    "Null = 3933.5                    # Null hypothesis mean (your full dataset mean)\n",
    "altern = 4500                      # Alternative mean (arbitrary, adjust as needed)\n",
    "Sd = diamonds['price'].std()  # Standard deviation (~3989.4)\n",
    "n = 30                           # Sample size\n",
    "alpha = 0.05                     # Significance level\n",
    "num_simulations = 10000          # Number of simulations\n",
    "\n",
    "# Function to simulate Type II error (H₀ false)\n",
    "def simulate_type_2_error():\n",
    "    p_values = []\n",
    "    for _ in range(num_simulations):\n",
    "        # Simulate sample under H₁: mean = mu_1 (assuming true mean isn’t $3933.5)\n",
    "        sample = np.random.normal(Null, Sd, n)\n",
    "        t_stat, p_val = stats.ttest_1samp(sample, altern)\n",
    "        p_values.append(p_val)\n",
    "    \n",
    "    # Type II error: Fail to reject H₀ when it’s false (p >= alpha)\n",
    "    type_2_errors = np.sum(np.array(p_values) >= alpha)\n",
    "    return type_2_errors / num_simulations\n",
    "\n",
    "# Run simulation\n",
    "type_2_rate = simulate_type_2_error()\n",
    "\n",
    "# Print result\n",
    "print(f\"Null Hypothesis Mean : {Null:.1f}\")\n",
    "print(f\"Alternative Hypothesis Mean : {altern:.1f}\")\n",
    "print(f\"Simulated Type II Error Rate (beta): {type_2_rate:.3f}\")\n",
    "print(f\"Power of the test (1-beta):{1- type_2_rate:.3f}\")"
   ]
  },
  {
   "cell_type": "code",
   "execution_count": 53,
   "metadata": {},
   "outputs": [
    {
     "name": "stdout",
     "output_type": "stream",
     "text": [
      "3989.963676930876\n"
     ]
    }
   ],
   "source": [
    "stand=diamonds['price'].std()\n",
    "print(stand)"
   ]
  },
  {
   "cell_type": "code",
   "execution_count": 51,
   "metadata": {},
   "outputs": [
    {
     "name": "stdout",
     "output_type": "stream",
     "text": [
      "Actual sample test: Sample Mean = $3529.4, t-statistic = -0.584, p-value = 0.564\n",
      "Fail to reject null hypothesis: No significant difference from 3933.5\n"
     ]
    }
   ],
   "source": [
    "# Test a real sample from the dataset (for comparison)\n",
    "Sample = diamonds['price'].sample(n, random_state=42)\n",
    "Sample_mean = Sample.mean()\n",
    "t_stat, p_val = stats.ttest_1samp(sample, Null)\n",
    "print(f\"Actual sample test: Sample Mean = ${sample_mean:.1f}, t-statistic = {t_stat:.3f}, p-value = {p_val:.3f}\")\n",
    "if p_val < alpha:\n",
    "    print(\"Reject null hypothesis: The sample mean significantly differs from 3933.5\")\n",
    "else:\n",
    "    print(\"Fail to reject null hypothesis: No significant difference from 3933.5\")"
   ]
  },
  {
   "cell_type": "code",
   "execution_count": 55,
   "metadata": {},
   "outputs": [
    {
     "data": {
      "image/png": "[encoded data removed]",
      "text/plain": [
       "<Figure size 640x480 with 1 Axes>"
      ]
     },
     "metadata": {},
     "output_type": "display_data"
    }
   ],
   "source": [
    "null_dist = np.random.normal(Null, stand / np.sqrt(n), 10000)\n",
    "alt_dist = np.random.normal(altern, stand / np.sqrt(n), 10000)\n",
    "\n",
    "# Critical value\n",
    "critical_value = stats.t.ppf(1 - alpha/2, df=n-1) * (stand / np.sqrt(n))\n",
    "\n",
    "# Plot\n",
    "plt.hist(alt_dist, bins=30, color=\"orange\", alpha=0.7, label=\"H₁\")\n",
    "plt.hist(null_dist, bins=30, color=\"blue\", alpha=0.3, label=\"H₀\")\n",
    "plt.axvline(Null + critical_value, color=\"red\", linestyle=\"--\", label=\"Rejection\")\n",
    "plt.axvline(Null - critical_value, color=\"red\", linestyle=\"--\")\n",
    "plt.axvspan(Null + critical_value, max(alt_dist), color=\"gray\", alpha=0.2, label=\"β\")  # Fixed syntax and range\n",
    "plt.axvline(sample_mean, color=\"green\", label=\"Sample\")\n",
    "plt.xlabel(\"Sample Mean ($)\")\n",
    "plt.legend()\n",
    "plt.show()"
   ]
  },
  {
   "cell_type": "markdown",
   "metadata": {},
   "source": [
    "- Type 2 error using a higher aternate hypothesis mean"
   ]
  },
  {
   "cell_type": "code",
   "execution_count": 56,
   "metadata": {},
   "outputs": [
    {
     "name": "stdout",
     "output_type": "stream",
     "text": [
      "Null Hypothesis Mean : 3933.5\n",
      "Alternative Hypothesis Mean : 8500.0\n",
      "Simulated Type II Error Rate (beta): 0.000\n",
      "Power of the test (1-beta):1.000\n"
     ]
    }
   ],
   "source": [
    "#Using a diffrenet alternate hypothesis.\n",
    "# Parameters\n",
    "Null = 3933.5                    # Null hypothesis mean (your full dataset mean)\n",
    "altern = 8500                      # Alternative mean (arbitrary, adjust as needed)\n",
    "Sd = diamonds['price'].std()  # Standard deviation (~3989.4)\n",
    "n = 30                           # Sample size\n",
    "alpha = 0.05                     # Significance level\n",
    "num_simulations = 10000          # Number of simulations\n",
    "\n",
    "# Function to simulate Type II error (H₀ false)\n",
    "def simulate_type_2_error():\n",
    "    p_values = []\n",
    "    for _ in range(num_simulations):\n",
    "        # Simulate sample under H₁: mean = mu_1 (assuming true mean isn’t $3933.5)\n",
    "        sample = np.random.normal(Null, Sd, n)\n",
    "        t_stat, p_val = stats.ttest_1samp(sample, altern)\n",
    "        p_values.append(p_val)\n",
    "    \n",
    "    # Type II error: Fail to reject H₀ when it’s false (p >= alpha)\n",
    "    type_2_errors = np.sum(np.array(p_values) >= alpha)\n",
    "    return type_2_errors / num_simulations\n",
    "\n",
    "# Run simulation\n",
    "type_2_rate = simulate_type_2_error()\n",
    "\n",
    "# Print result\n",
    "print(f\"Null Hypothesis Mean : {Null:.1f}\")\n",
    "print(f\"Alternative Hypothesis Mean : {altern:.1f}\")\n",
    "print(f\"Simulated Type II Error Rate (beta): {type_2_rate:.3f}\")\n",
    "print(f\"Power of the test (1-beta):{1- type_2_rate:.3f}\")"
   ]
  },
  {
   "cell_type": "code",
   "execution_count": 57,
   "metadata": {},
   "outputs": [
    {
     "name": "stdout",
     "output_type": "stream",
     "text": [
      "Actual sample test: Sample Mean = $3529.4, t-statistic = -0.584, p-value = 0.564\n",
      "Fail to reject null hypothesis: No significant difference from 3933.5\n"
     ]
    }
   ],
   "source": [
    "# Test a real sample from the dataset (for comparison)\n",
    "Sample = diamonds['price'].sample(n, random_state=42)\n",
    "Sample_mean = Sample.mean()\n",
    "t_stat, p_val = stats.ttest_1samp(sample, Null)\n",
    "print(f\"Actual sample test: Sample Mean = ${sample_mean:.1f}, t-statistic = {t_stat:.3f}, p-value = {p_val:.3f}\")\n",
    "if p_val < alpha:\n",
    "    print(\"Reject null hypothesis: The sample mean significantly differs from 3933.5\")\n",
    "else:\n",
    "    print(\"Fail to reject null hypothesis: No significant difference from 3933.5\")"
   ]
  },
  {
   "cell_type": "code",
   "execution_count": 59,
   "metadata": {},
   "outputs": [
    {
     "data": {
      "image/png": "[encoded data removed]",
      "text/plain": [
       "<Figure size 640x480 with 1 Axes>"
      ]
     },
     "metadata": {},
     "output_type": "display_data"
    }
   ],
   "source": [
    "null_dist = np.random.normal(Null, Sd / np.sqrt(n), 10000)\n",
    "alt_dist = np.random.normal(altern, Sd / np.sqrt(n), 10000)\n",
    "\n",
    "# Critical value\n",
    "critical_value = stats.t.ppf(1 - alpha/2, df=n-1) * (Sd / np.sqrt(n))\n",
    "\n",
    "# Plot\n",
    "plt.hist(alt_dist, bins=30, color=\"orange\", alpha=0.7, label=\"H₁\")\n",
    "plt.hist(null_dist, bins=30, color=\"blue\", alpha=0.3, label=\"H₀\")\n",
    "plt.axvline(Null + critical_value, color=\"red\", linestyle=\"--\", label=\"Rejection\")\n",
    "plt.axvline(Null - critical_value, color=\"red\", linestyle=\"--\")\n",
    "plt.axvspan(Null + critical_value, max(alt_dist), color=\"gray\", alpha=0.2, label=\"β\")  # Fixed syntax and range\n",
    "plt.axvline(Sample_mean, color=\"green\", label=\"Sample\")\n",
    "plt.xlabel(\"Sample Mean ($)\")\n",
    "plt.legend()\n",
    "plt.show()"
   ]
  }
 ],
 "metadata": {
  "kernelspec": {
   "display_name": "Python 3",
   "language": "python",
   "name": "python3"
  },
  "language_info": {
   "codemirror_mode": {
    "name": "ipython",
    "version": 3
   },
   "file_extension": ".py",
   "mimetype": "text/x-python",
   "name": "python",
   "nbconvert_exporter": "python",
   "pygments_lexer": "ipython3",
   "version": "3.12.5"
  }
 },
 "nbformat": 4,
 "nbformat_minor": 2
}
